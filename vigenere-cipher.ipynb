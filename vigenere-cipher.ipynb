{
 "cells": [
  {
   "cell_type": "code",
   "execution_count": 1,
   "id": "883f985a",
   "metadata": {},
   "outputs": [],
   "source": [
    "#in this cipher encryption we first get a plain text and a key text and if the length of the key is less than the plain text \n",
    "#we repeat the key chars till it reaches the length of the plain text\n",
    "#then we use formula (ascii of plain char + asci of key char)mod26 and with that which ever asci code we get we convert that back into char\n",
    "#decryption is doing the same but with ciher text"
   ]
  },
  {
   "cell_type": "code",
   "execution_count": 54,
   "id": "03ab3871",
   "metadata": {},
   "outputs": [],
   "source": [
    "def encrypt(plaintext, key):\n",
    "    res = \"\"\n",
    "    text = plaintext.strip()\n",
    "    key = key.strip()\n",
    "\n",
    "    # Preserve original case information\n",
    "    original_case = [char.islower() for char in text]\n",
    "\n",
    "    # Convert both plaintext and key to uppercase\n",
    "    text = text.upper()\n",
    "    key = key.upper()\n",
    "\n",
    "    # Repeat key to match text length\n",
    "    key = (key * (len(text) // len(key) + 1))[:len(text)]\n",
    "\n",
    "    for j in range(len(text)):\n",
    "        if text[j].isalpha():  # Process only letters\n",
    "            p = ord(text[j]) - 65\n",
    "            k = ord(key[j]) - 65\n",
    "            char_ascii = (p + k) % 26\n",
    "            char = chr(char_ascii + 65)\n",
    "            res += char.lower() if original_case[j] else char  # Restore case\n",
    "        else:\n",
    "            res += text[j]  # Preserve non-alphabet characters\n",
    "\n",
    "    return res\n",
    "  "
   ]
  },
  {
   "cell_type": "code",
   "execution_count": 55,
   "id": "7827fb9a",
   "metadata": {},
   "outputs": [
    {
     "name": "stdout",
     "output_type": "stream",
     "text": [
      "the cipher text for Hello is Rijvs\n"
     ]
    }
   ],
   "source": [
    "plaintext= 'Hello'\n",
    "cipher= encrypt(plaintext,'key')\n",
    "print(f\"the cipher text for {plaintext} is {cipher}\")"
   ]
  },
  {
   "cell_type": "code",
   "execution_count": null,
   "id": "6954a18b",
   "metadata": {},
   "outputs": [],
   "source": []
  }
 ],
 "metadata": {
  "kernelspec": {
   "display_name": "Python 3 (ipykernel)",
   "language": "python",
   "name": "python3"
  },
  "language_info": {
   "codemirror_mode": {
    "name": "ipython",
    "version": 3
   },
   "file_extension": ".py",
   "mimetype": "text/x-python",
   "name": "python",
   "nbconvert_exporter": "python",
   "pygments_lexer": "ipython3",
   "version": "3.10.9"
  }
 },
 "nbformat": 4,
 "nbformat_minor": 5
}
