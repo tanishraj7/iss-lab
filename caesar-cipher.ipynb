{
 "cells": [
  {
   "cell_type": "code",
   "execution_count": 1,
   "id": "21f134ee",
   "metadata": {},
   "outputs": [],
   "source": [
    "#caesar cipher is a basic encryption technique where we use same key for encryption and decryption. The key is used as shifts \n",
    "#to encrypt the mssg key max of 16"
   ]
  },
  {
   "cell_type": "code",
   "execution_count": 11,
   "id": "4b65b6a1",
   "metadata": {},
   "outputs": [],
   "source": [
    "def encrypt(text, k):\n",
    "    shift= k\n",
    "    text= text.strip()\n",
    "    result= \"\"\n",
    "    for i in range(len(text)):\n",
    "        char= text[i]\n",
    "        if (char.isupper()):\n",
    "            result += chr((ord(char) + shift - 65)%26 + 65)\n",
    "        else:\n",
    "            result += chr((ord(char)+ shift - 97)%26 + 97)\n",
    "        if char==\" \":\n",
    "            result += char\n",
    "    return result\n",
    "            "
   ]
  },
  {
   "cell_type": "code",
   "execution_count": 12,
   "id": "5e6b1d8b",
   "metadata": {},
   "outputs": [],
   "source": [
    "def decrypt(text, k):\n",
    "    shift = k \n",
    "    result = \"\"\n",
    "    for i in range(len(text)):\n",
    "        char= text[i]\n",
    "        if (char.isupper()):\n",
    "            result += chr((ord(char) - shift - 65)%26 + 65)\n",
    "        else:\n",
    "            result += chr((ord(char) - shift - 97)%26 + 97)\n",
    "        if char ==\" \":\n",
    "            result += char\n",
    "    return result"
   ]
  },
  {
   "cell_type": "code",
   "execution_count": 13,
   "id": "4103c952",
   "metadata": {},
   "outputs": [],
   "source": [
    "def main():\n",
    "    text= input('enter text:')\n",
    "    key = int(input('enter num from 0-25'))\n",
    "    return encrypt(text, key)"
   ]
  },
  {
   "cell_type": "code",
   "execution_count": 16,
   "id": "9c146a9b",
   "metadata": {},
   "outputs": [
    {
     "name": "stdout",
     "output_type": "stream",
     "text": [
      "enter text:HELLO\n",
      "enter num from 0-253\n"
     ]
    },
    {
     "data": {
      "text/plain": [
       "'KHOOR'"
      ]
     },
     "execution_count": 16,
     "metadata": {},
     "output_type": "execute_result"
    }
   ],
   "source": [
    "main()"
   ]
  },
  {
   "cell_type": "code",
   "execution_count": 17,
   "id": "1a18cf00",
   "metadata": {},
   "outputs": [
    {
     "data": {
      "text/plain": [
       "'HELLO'"
      ]
     },
     "execution_count": 17,
     "metadata": {},
     "output_type": "execute_result"
    }
   ],
   "source": [
    "decrypt('KHOOR', 3)"
   ]
  },
  {
   "cell_type": "code",
   "execution_count": null,
   "id": "54703633",
   "metadata": {},
   "outputs": [],
   "source": [
    "#gg\n",
    "# ord(char): Converts the letter into its ASCII number (e.g., 'A' = 65, 'B' = 66).\n",
    "# ord(char) + s: Shifts the letter by s positions.\n",
    "# - 65: Aligns 'A' with 0, 'B' with 1, etc., for simpler calculations.\n",
    "# % 26: Ensures the result stays within the range of 26 letters (loops back after 'Z').\n",
    "# + 65: Converts back to the ASCII value of an uppercase letter.\n",
    "# chr(...): Converts the resulting ASCII number back to a character.\n",
    "\n",
    "#in lower case 65 becomes 97 as small 'a'==97 in ascii and capital 'A'==65 in ascii"
   ]
  }
 ],
 "metadata": {
  "kernelspec": {
   "display_name": "Python 3 (ipykernel)",
   "language": "python",
   "name": "python3"
  },
  "language_info": {
   "codemirror_mode": {
    "name": "ipython",
    "version": 3
   },
   "file_extension": ".py",
   "mimetype": "text/x-python",
   "name": "python",
   "nbconvert_exporter": "python",
   "pygments_lexer": "ipython3",
   "version": "3.10.9"
  }
 },
 "nbformat": 4,
 "nbformat_minor": 5
}
