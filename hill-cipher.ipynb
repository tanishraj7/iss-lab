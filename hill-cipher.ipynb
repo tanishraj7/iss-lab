{
 "cells": [
  {
   "cell_type": "code",
   "execution_count": 1,
   "id": "72d00e87",
   "metadata": {},
   "outputs": [],
   "source": [
    "#in hill cipher we are taking text of len 3 to encrypt and then a key of len 3x3 that is nxn so that when we make matrices \n",
    "#for the text it will be a vector with 1 col but 3 rows for both plain text and cipher text but for the key it will be a \n",
    "#matrix of nxn ie 3x3 after getting ascii values of the chars"
   ]
  },
  {
   "cell_type": "code",
   "execution_count": 6,
   "id": "b68a0603",
   "metadata": {},
   "outputs": [
    {
     "data": {
      "text/plain": [
       "[[0, 0, 0], [0, 0, 0], [0, 0, 0]]"
      ]
     },
     "execution_count": 6,
     "metadata": {},
     "output_type": "execute_result"
    }
   ],
   "source": [
    "keyMatrix= [[0]*3 for i in range(3)]\n",
    "keyMatrix"
   ]
  },
  {
   "cell_type": "code",
   "execution_count": 7,
   "id": "61207ad1",
   "metadata": {},
   "outputs": [
    {
     "data": {
      "text/plain": [
       "[[0], [0], [0]]"
      ]
     },
     "execution_count": 7,
     "metadata": {},
     "output_type": "execute_result"
    }
   ],
   "source": [
    "messageVector= [[0] for i in range(3)]\n",
    "messageVector"
   ]
  },
  {
   "cell_type": "code",
   "execution_count": 8,
   "id": "994e7d32",
   "metadata": {},
   "outputs": [
    {
     "data": {
      "text/plain": [
       "[[0], [0], [0]]"
      ]
     },
     "execution_count": 8,
     "metadata": {},
     "output_type": "execute_result"
    }
   ],
   "source": [
    "cipherVector= [[0] for i in range(3)]\n",
    "cipherVector"
   ]
  },
  {
   "cell_type": "code",
   "execution_count": 9,
   "id": "9dd9e71e",
   "metadata": {},
   "outputs": [],
   "source": [
    "#now we have created the structure required to perform the cryptography algo\n",
    "#creating functions to assign value in those matrices"
   ]
  },
  {
   "cell_type": "code",
   "execution_count": 10,
   "id": "adc1933c",
   "metadata": {},
   "outputs": [],
   "source": [
    "def getKeyMatrix(key):\n",
    "    k=0\n",
    "    for i in range(3):\n",
    "        for j in range(3):\n",
    "            keyMatrix[i][j]= ord(key[k])%65  #storing the ascii value for each char from key in matrix\n",
    "            k += 1"
   ]
  },
  {
   "cell_type": "code",
   "execution_count": 19,
   "id": "e5c0703f",
   "metadata": {},
   "outputs": [],
   "source": [
    "def encrypt(messageVector):\n",
    "    for i in range(3):\n",
    "        for j in range(1):\n",
    "            cipherVector[i][j]= 0\n",
    "            for x in range(3):\n",
    "                cipherVector[i][j] += (keyMatrix[i][x]*messageVector[x][j]) #matrix multiplication formula for 3x1 message vector and 3x3 key matrix\n",
    "            cipherVector[i][j]= cipherVector[i][j] % 26"
   ]
  },
  {
   "cell_type": "code",
   "execution_count": 20,
   "id": "ea9f18c4",
   "metadata": {},
   "outputs": [],
   "source": [
    "def hill_cipher(message, key):\n",
    "    getKeyMatrix(key) #generating key matrix\n",
    "    \n",
    "    for i in range(3):\n",
    "        messageVector[i][0]= (ord(message[i]) % 65)  #assigning values to our message vector\n",
    "        \n",
    "    encrypt(messageVector)   #getting cipher vector after encryption with ascii values\n",
    "    \n",
    "    ciphertext=[]\n",
    "    for i in range(3):\n",
    "        ciphertext.append(chr(cipherVector[i][0] + 65)) #converting ascii code back to characters\n",
    "        \n",
    "    print('cipher text:' ,\"\".join(ciphertext))"
   ]
  },
  {
   "cell_type": "code",
   "execution_count": 21,
   "id": "d951c4a0",
   "metadata": {},
   "outputs": [
    {
     "name": "stdout",
     "output_type": "stream",
     "text": [
      "enter capital text of len 3:ACT\n",
      "enter capital text of len 9:GYBNQKURP\n",
      "cipher text: POH\n"
     ]
    }
   ],
   "source": [
    "def main():\n",
    "    message= input('enter capital text of len 3:')\n",
    "    key= input('enter capital text of len 9:')\n",
    "    hill_cipher(message, key)\n",
    "    \n",
    "main()"
   ]
  },
  {
   "cell_type": "code",
   "execution_count": null,
   "id": "51b4dc82",
   "metadata": {},
   "outputs": [],
   "source": []
  }
 ],
 "metadata": {
  "kernelspec": {
   "display_name": "Python 3 (ipykernel)",
   "language": "python",
   "name": "python3"
  },
  "language_info": {
   "codemirror_mode": {
    "name": "ipython",
    "version": 3
   },
   "file_extension": ".py",
   "mimetype": "text/x-python",
   "name": "python",
   "nbconvert_exporter": "python",
   "pygments_lexer": "ipython3",
   "version": "3.10.9"
  }
 },
 "nbformat": 4,
 "nbformat_minor": 5
}
